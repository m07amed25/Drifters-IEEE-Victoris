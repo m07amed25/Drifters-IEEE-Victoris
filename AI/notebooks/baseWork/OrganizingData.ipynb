{
  "nbformat": 4,
  "nbformat_minor": 0,
  "metadata": {
    "colab": {
      "provenance": []
    },
    "kernelspec": {
      "name": "python3",
      "display_name": "Python 3"
    },
    "language_info": {
      "name": "python"
    }
  },
  "cells": [
    {
      "cell_type": "code",
      "metadata": {
        "colab": {
          "base_uri": "https://localhost:8080/"
        },
        "id": "8b262d61",
        "outputId": "3d528823-e493-432d-ff80-c907a510b2f5"
      },
      "source": [
        "import os\n",
        "\n",
        "source_dir = \"/content/drive/MyDrive/UCF_Crime\"\n",
        "all_items = os.listdir(source_dir)\n",
        "zip_files = [item for item in all_items if item.endswith(\".zip\")]\n",
        "\n",
        "if 'Anomaly-Videos-Part-2.zip' not in zip_files:\n",
        "    zip_files.append('Anomaly-Videos-Part-2.zip')\n",
        "\n",
        "print(zip_files)"
      ],
      "execution_count": 5,
      "outputs": [
        {
          "output_type": "stream",
          "name": "stdout",
          "text": [
            "['Anomaly-Videos-Part-4.zip', 'Anomaly-Videos-Part-1.zip', 'Anomaly-Videos-Part-3.zip', 'Testing_Normal_Videos.zip', 'Normal_Videos_for_Event_Recognition.zip', 'test.zip', 'Anomaly-Videos-Part-2.zip']\n"
          ]
        }
      ]
    },
    {
      "cell_type": "code",
      "metadata": {
        "colab": {
          "base_uri": "https://localhost:8080/"
        },
        "id": "bdbf914a",
        "outputId": "3f70b18e-326e-401c-f8aa-2233ddfde362"
      },
      "source": [
        "target_dir = \"/content/drive/MyDrive/data\"\n",
        "\n",
        "if not os.path.exists(target_dir):\n",
        "    os.makedirs(target_dir)\n",
        "    print(f\"Target directory '{target_dir}' created.\")\n",
        "else:\n",
        "    print(f\"Target directory '{target_dir}' already exists.\")"
      ],
      "execution_count": 2,
      "outputs": [
        {
          "output_type": "stream",
          "name": "stdout",
          "text": [
            "Target directory '/content/drive/MyDrive/data' created.\n"
          ]
        }
      ]
    },
    {
      "cell_type": "code",
      "metadata": {
        "colab": {
          "base_uri": "https://localhost:8080/"
        },
        "id": "840706bb",
        "outputId": "ee80f716-6c96-4a26-d9af-85b9627d82f9"
      },
      "source": [
        "import zipfile\n",
        "\n",
        "for zip_file in zip_files:\n",
        "    class_name = os.path.splitext(zip_file)[0]\n",
        "    class_dir = os.path.join(target_dir, class_name)\n",
        "\n",
        "    if os.path.exists(class_dir):\n",
        "        continue\n",
        "    if not os.path.exists(class_dir):\n",
        "        os.makedirs(class_dir)\n",
        "\n",
        "    zip_file_path = os.path.join(source_dir, zip_file)\n",
        "    with zipfile.ZipFile(zip_file_path, 'r') as zip_ref:\n",
        "        print(f\"Extracting '{zip_file}' to '{class_dir}'...\")\n",
        "        for file_info in zip_ref.infolist():\n",
        "            if not file_info.is_dir():\n",
        "                zip_ref.extract(file_info, class_dir)"
      ],
      "execution_count": 6,
      "outputs": [
        {
          "output_type": "stream",
          "name": "stdout",
          "text": [
            "Skipping 'Anomaly-Videos-Part-4.zip' as target directory '/content/drive/MyDrive/data/Anomaly-Videos-Part-4' already exists.\n",
            "Skipping 'Anomaly-Videos-Part-1.zip' as target directory '/content/drive/MyDrive/data/Anomaly-Videos-Part-1' already exists.\n",
            "Skipping 'Anomaly-Videos-Part-3.zip' as target directory '/content/drive/MyDrive/data/Anomaly-Videos-Part-3' already exists.\n",
            "Skipping 'Testing_Normal_Videos.zip' as target directory '/content/drive/MyDrive/data/Testing_Normal_Videos' already exists.\n",
            "Skipping 'Normal_Videos_for_Event_Recognition.zip' as target directory '/content/drive/MyDrive/data/Normal_Videos_for_Event_Recognition' already exists.\n",
            "Skipping 'test.zip' as target directory '/content/drive/MyDrive/data/test' already exists.\n",
            "Extracting 'Anomaly-Videos-Part-2.zip' to '/content/drive/MyDrive/data/Anomaly-Videos-Part-2'...\n"
          ]
        }
      ]
    }
  ]
}